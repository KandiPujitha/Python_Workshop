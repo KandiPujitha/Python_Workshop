{
 "cells": [
  {
   "cell_type": "markdown",
   "metadata": {},
   "source": [
    "# Regular expression\n",
    "\n",
    "# OOPS\n",
    "\n",
    "# Numpy\n",
    "\n",
    "# matplotlib\n",
    "\n",
    "# pandas"
   ]
  },
  {
   "cell_type": "code",
   "execution_count": null,
   "metadata": {},
   "outputs": [],
   "source": [
    "# Regular expressions:\n",
    "+ to check the date is valid or not \n",
    "+ data filters"
   ]
  },
  {
   "cell_type": "code",
   "execution_count": 2,
   "metadata": {},
   "outputs": [
    {
     "name": "stdout",
     "output_type": "stream",
     "text": [
      "aca\n"
     ]
    }
   ],
   "source": [
    "l=['abc','aca','adc']\n",
    "for i in l:\n",
    "    if i.endswith('a'):\n",
    "        print(i)\n",
    "    "
   ]
  },
  {
   "cell_type": "code",
   "execution_count": 4,
   "metadata": {},
   "outputs": [],
   "source": [
    "import re"
   ]
  },
  {
   "cell_type": "code",
   "execution_count": 5,
   "metadata": {},
   "outputs": [
    {
     "data": {
      "text/plain": [
       "['A',\n",
       " 'ASCII',\n",
       " 'DEBUG',\n",
       " 'DOTALL',\n",
       " 'I',\n",
       " 'IGNORECASE',\n",
       " 'L',\n",
       " 'LOCALE',\n",
       " 'M',\n",
       " 'MULTILINE',\n",
       " 'RegexFlag',\n",
       " 'S',\n",
       " 'Scanner',\n",
       " 'T',\n",
       " 'TEMPLATE',\n",
       " 'U',\n",
       " 'UNICODE',\n",
       " 'VERBOSE',\n",
       " 'X',\n",
       " '_MAXCACHE',\n",
       " '__all__',\n",
       " '__builtins__',\n",
       " '__cached__',\n",
       " '__doc__',\n",
       " '__file__',\n",
       " '__loader__',\n",
       " '__name__',\n",
       " '__package__',\n",
       " '__spec__',\n",
       " '__version__',\n",
       " '_alphanum_bytes',\n",
       " '_alphanum_str',\n",
       " '_cache',\n",
       " '_compile',\n",
       " '_compile_repl',\n",
       " '_expand',\n",
       " '_locale',\n",
       " '_pattern_type',\n",
       " '_pickle',\n",
       " '_subx',\n",
       " 'compile',\n",
       " 'copyreg',\n",
       " 'enum',\n",
       " 'error',\n",
       " 'escape',\n",
       " 'findall',\n",
       " 'finditer',\n",
       " 'fullmatch',\n",
       " 'functools',\n",
       " 'match',\n",
       " 'purge',\n",
       " 'search',\n",
       " 'split',\n",
       " 'sre_compile',\n",
       " 'sre_parse',\n",
       " 'sub',\n",
       " 'subn',\n",
       " 'template']"
      ]
     },
     "execution_count": 5,
     "metadata": {},
     "output_type": "execute_result"
    }
   ],
   "source": [
    "dir(re)"
   ]
  },
  {
   "cell_type": "code",
   "execution_count": null,
   "metadata": {},
   "outputs": [],
   "source": [
    "# syntax of regular expressions\n",
    "# re.methodname(pattern,data)\n",
    "# pattren is format of requried data\n",
    "# data is given values"
   ]
  },
  {
   "cell_type": "code",
   "execution_count": 10,
   "metadata": {},
   "outputs": [
    {
     "data": {
      "text/plain": [
       "True"
      ]
     },
     "execution_count": 10,
     "metadata": {},
     "output_type": "execute_result"
    }
   ],
   "source": [
    "s='aabcd'\n",
    "'a' in s"
   ]
  },
  {
   "cell_type": "code",
   "execution_count": 12,
   "metadata": {},
   "outputs": [
    {
     "data": {
      "text/plain": [
       "<_sre.SRE_Match object; span=(0, 2), match='aa'>"
      ]
     },
     "execution_count": 12,
     "metadata": {},
     "output_type": "execute_result"
    }
   ],
   "source": [
    "re.search('aa',s)"
   ]
  },
  {
   "cell_type": "code",
   "execution_count": 13,
   "metadata": {},
   "outputs": [
    {
     "data": {
      "text/plain": [
       "<_sre.SRE_Match object; span=(0, 2), match='aa'>"
      ]
     },
     "execution_count": 13,
     "metadata": {},
     "output_type": "execute_result"
    }
   ],
   "source": [
    "re.match('aa',s)"
   ]
  },
  {
   "cell_type": "code",
   "execution_count": 14,
   "metadata": {},
   "outputs": [
    {
     "data": {
      "text/plain": [
       "['aa']"
      ]
     },
     "execution_count": 14,
     "metadata": {},
     "output_type": "execute_result"
    }
   ],
   "source": [
    "re.findall('aa',s)"
   ]
  },
  {
   "cell_type": "markdown",
   "metadata": {},
   "source": [
    "# . (dot)\n",
    "+ it matches any single character"
   ]
  },
  {
   "cell_type": "code",
   "execution_count": 15,
   "metadata": {},
   "outputs": [
    {
     "name": "stdout",
     "output_type": "stream",
     "text": [
      "abc\n",
      "aca\n",
      "adc\n"
     ]
    }
   ],
   "source": [
    "l=['abc','aca','adc']\n",
    "for i in l:\n",
    "    if re.search('.',i):\n",
    "        print(i)"
   ]
  },
  {
   "cell_type": "code",
   "execution_count": 23,
   "metadata": {},
   "outputs": [
    {
     "name": "stdout",
     "output_type": "stream",
     "text": [
      "ab\n",
      "aca\n",
      "adc\n",
      "ac\n",
      "aaa\n"
     ]
    }
   ],
   "source": [
    "l=['ab','aca','adc','ac','aaa']\n",
    "for i in l:\n",
    "    if len(i)==3 or len(i)==2:\n",
    "        print(i)"
   ]
  },
  {
   "cell_type": "code",
   "execution_count": 21,
   "metadata": {},
   "outputs": [
    {
     "name": "stdout",
     "output_type": "stream",
     "text": [
      "ab\n",
      "aca\n",
      "adc\n",
      "ac\n"
     ]
    }
   ],
   "source": [
    "for i in l:\n",
    "    if re.search('..',i):\n",
    "        print(i)\n",
    "    "
   ]
  },
  {
   "cell_type": "code",
   "execution_count": null,
   "metadata": {},
   "outputs": [],
   "source": [
    "## * (star)\n",
    "+ min value 0 max  value\n"
   ]
  },
  {
   "cell_type": "code",
   "execution_count": 22,
   "metadata": {},
   "outputs": [
    {
     "name": "stdout",
     "output_type": "stream",
     "text": [
      "ab\n",
      "aca\n",
      "adc\n",
      "ac\n"
     ]
    }
   ],
   "source": [
    "for i in l:\n",
    "    if re.search('.*',i):\n",
    "        print(i)"
   ]
  },
  {
   "cell_type": "code",
   "execution_count": 24,
   "metadata": {},
   "outputs": [
    {
     "name": "stdout",
     "output_type": "stream",
     "text": [
      "aca\n",
      "aaa\n"
     ]
    }
   ],
   "source": [
    "## +(plus) endswith and startwith model\n",
    "for i in l:\n",
    "    if re.search('a.+a',i):\n",
    "        print(i)\n"
   ]
  },
  {
   "cell_type": "code",
   "execution_count": null,
   "metadata": {},
   "outputs": [],
   "source": [
    "## ^ cap--> startswith\n",
    "## $ doller--> endswith\n",
    "## \\d --> for digits\n",
    "## []--> oniy specified values\n",
    "## {}--> min,max values"
   ]
  },
  {
   "cell_type": "code",
   "execution_count": 25,
   "metadata": {},
   "outputs": [
    {
     "name": "stdout",
     "output_type": "stream",
     "text": [
      "['abc', '123', 'hello', '456']\n"
     ]
    }
   ],
   "source": [
    "s='abc 123 hello 456'\n",
    "l=s.split()\n",
    "print(l)"
   ]
  },
  {
   "cell_type": "code",
   "execution_count": 26,
   "metadata": {},
   "outputs": [
    {
     "data": {
      "text/plain": [
       "579"
      ]
     },
     "execution_count": 26,
     "metadata": {},
     "output_type": "execute_result"
    }
   ],
   "source": [
    "s='abc 123 hello 456'\n",
    "pattern='\\d+'\n",
    "li=re.findall(pattern,s)\n",
    "sum(list(map(int,li)))"
   ]
  },
  {
   "cell_type": "code",
   "execution_count": 28,
   "metadata": {},
   "outputs": [
    {
     "name": "stdout",
     "output_type": "stream",
     "text": [
      "puja\n",
      "niha\n",
      "gayathri\n",
      "soundarya\n",
      "teja\n",
      "silpa\n"
     ]
    }
   ],
   "source": [
    "names=['puja','niha','gayathri','soundarya','teja','silpa',]\n",
    "pattern='.{4}'\n",
    "for name in names:\n",
    "    if re.match(pattern,name):\n",
    "        print(name)"
   ]
  },
  {
   "cell_type": "code",
   "execution_count": 29,
   "metadata": {},
   "outputs": [
    {
     "name": "stdout",
     "output_type": "stream",
     "text": [
      "puja\n",
      "niha\n",
      "teja\n"
     ]
    }
   ],
   "source": [
    "# start only with some specified number\n",
    "names=['puja','niha','gayathri','soundarya','teja','silpa',]\n",
    "\n",
    "pattern='^.{4}$'\n",
    "for name in names:\n",
    "    if re.match(pattern,name):\n",
    "        print(name)"
   ]
  },
  {
   "cell_type": "code",
   "execution_count": 32,
   "metadata": {},
   "outputs": [
    {
     "name": "stdout",
     "output_type": "stream",
     "text": [
      "puja\n"
     ]
    }
   ],
   "source": [
    "# start only with specified leters\n",
    "        \n",
    "names=['puja','niha','gayathri','soundarya','teja','silpa',]\n",
    "pattren='^.p+'\n",
    "for name in names:\n",
    "    if re.match(pattern,name):\n",
    "        print(name)\n"
   ]
  },
  {
   "cell_type": "code",
   "execution_count": 34,
   "metadata": {},
   "outputs": [
    {
     "name": "stdout",
     "output_type": "stream",
     "text": [
      "soundarya\n"
     ]
    }
   ],
   "source": [
    "names=['puja','niha','gayathri','soundarya','teja','silpa',]\n",
    "pattren='^a.{3}$'\n",
    "pattern1='^.+(ya)$'\n",
    "for name in names:\n",
    "    if re.match(pattern1,name):\n",
    "        print(name)\n"
   ]
  },
  {
   "cell_type": "code",
   "execution_count": 38,
   "metadata": {},
   "outputs": [
    {
     "name": "stdout",
     "output_type": "stream",
     "text": [
      "9848625672\n",
      "8183426212\n"
     ]
    }
   ],
   "source": [
    "# how to valid a phone number\n",
    "# 10 digits\n",
    "# starts with 6-9\n",
    "numbers=['9848625672','8183426212','01010101010']\n",
    "pattren='^[6-9]\\d{9}$'\n",
    "for number in numbers:\n",
    "    if re.match(pattren,number):\n",
    "        print(number)"
   ]
  },
  {
   "cell_type": "code",
   "execution_count": 52,
   "metadata": {},
   "outputs": [
    {
     "name": "stdout",
     "output_type": "stream",
     "text": [
      "+919684234567\n"
     ]
    }
   ],
   "source": [
    "numbers1=['+919684234567']\n",
    "pattren1='^(\\+91)[6-9]\\d{9}$'\n",
    "for number in numbers1:\n",
    "    if re.match(pattren1,number):\n",
    "        print(number)\n"
   ]
  },
  {
   "cell_type": "code",
   "execution_count": 59,
   "metadata": {},
   "outputs": [
    {
     "name": "stdout",
     "output_type": "stream",
     "text": [
      "enter mail id qw12@gmail.com\n",
      "qw12@gmail.com\n"
     ]
    }
   ],
   "source": [
    "# how to validate gmail\n",
    "# startswith any alphabets\n",
    "# @gmail.com\n",
    "email=input('enter mail id ')\n",
    "pattern='^[A-Za-z]{1,15}\\d{0,10}[@](gmail.com)$'\n",
    "if re.match(pattern,email):\n",
    "    print(email)"
   ]
  },
  {
   "cell_type": "markdown",
   "metadata": {},
   "source": [
    "## OOPS\n",
    "+ class--> it is a blue print or model of a object\n",
    "+ object--> physical entity which is having behaviour and action\n",
    "+ constructor--> special method which is used to create instance variables\n",
    "\n"
   ]
  },
  {
   "cell_type": "code",
   "execution_count": null,
   "metadata": {},
   "outputs": [],
   "source": [
    "# create a class\n",
    "# class classname\n",
    "    # variables\n",
    "    # methods"
   ]
  },
  {
   "cell_type": "code",
   "execution_count": 62,
   "metadata": {},
   "outputs": [
    {
     "name": "stdout",
     "output_type": "stream",
     "text": [
      "10\n"
     ]
    }
   ],
   "source": [
    "class student:\n",
    "    x=10\n",
    "    print(student.x)"
   ]
  },
  {
   "cell_type": "code",
   "execution_count": 63,
   "metadata": {},
   "outputs": [
    {
     "data": {
      "text/plain": [
       "10"
      ]
     },
     "execution_count": 63,
     "metadata": {},
     "output_type": "execute_result"
    }
   ],
   "source": [
    "# create object\n",
    "# syntax\n",
    "    # rv=classname()\n",
    "s=student()\n",
    "s.x"
   ]
  },
  {
   "cell_type": "code",
   "execution_count": 64,
   "metadata": {},
   "outputs": [
    {
     "name": "stdout",
     "output_type": "stream",
     "text": [
      "10\n",
      "hello puji\n"
     ]
    }
   ],
   "source": [
    "class student:\n",
    "    x=10\n",
    "    def display(self,name):\n",
    "        print('hello {}'.format(name))\n",
    "s=student()\n",
    "print(s.x)\n",
    "s.display('puji')"
   ]
  },
  {
   "cell_type": "code",
   "execution_count": 69,
   "metadata": {},
   "outputs": [
    {
     "name": "stdout",
     "output_type": "stream",
     "text": [
      "this is constructer\n",
      "this is constructer\n",
      "this is method\n",
      "40\n",
      "this is method\n",
      "40\n"
     ]
    }
   ],
   "source": [
    "class student:\n",
    "    x=10 # class variable\n",
    "    def __init__(self):\n",
    "        self.y=20 # instance variable\n",
    "        print('this is constructer')\n",
    "    def m1(self):\n",
    "        z=40 # local variable\n",
    "        print('this is method')\n",
    "        print(z)\n",
    "s=student()\n",
    "s1=student()\n",
    "s.x\n",
    "s.m1()\n",
    "s.m1()\n"
   ]
  },
  {
   "cell_type": "code",
   "execution_count": null,
   "metadata": {},
   "outputs": [],
   "source": []
  }
 ],
 "metadata": {
  "kernelspec": {
   "display_name": "Python 3",
   "language": "python",
   "name": "python3"
  },
  "language_info": {
   "codemirror_mode": {
    "name": "ipython",
    "version": 3
   },
   "file_extension": ".py",
   "mimetype": "text/x-python",
   "name": "python",
   "nbconvert_exporter": "python",
   "pygments_lexer": "ipython3",
   "version": "3.6.5"
  }
 },
 "nbformat": 4,
 "nbformat_minor": 4
}
